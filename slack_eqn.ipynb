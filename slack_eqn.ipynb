{
 "cells": [
  {
   "cell_type": "markdown",
   "id": "e254ff7a",
   "metadata": {},
   "source": [
    "# Slack equation"
   ]
  },
  {
   "cell_type": "markdown",
   "id": "24324f2e",
   "metadata": {},
   "source": [
    "# $K_{ph} = \\frac{B(\\gamma)\\delta M_{av}\\theta_D^3}{\\gamma^2Tn^{2/3}}\\; \\; T>\\theta_D$,"
   ]
  },
  {
   "cell_type": "markdown",
   "id": "27fae8c4",
   "metadata": {},
   "source": [
    "# where ,\n",
    "# $B(\\gamma) = \\frac{4.85628\\times10^{7}}{2(1-0.5141\\gamma^{-1}+0.228\\gamma^{-2})}$."
   ]
  },
  {
   "cell_type": "markdown",
   "id": "a603cfe0",
   "metadata": {},
   "source": [
    "## V = average volume of premitive unit cell per atom  in m$^3$\n",
    "## $\\delta$  = V$^{1/3}$ in meter\n",
    "## M$_{av}$ = mean atomic mass in kg /mol\n",
    "## T$_D$ = Debye temperature in K\n",
    "## $\\gamma$ = Gruneisen parameter, which is dimension less\n",
    "## T = absolute temperature in K \n",
    "## n = number of atoms in unit cell\n",
    "## '' In DFT, we get M in g/mol, delta in atomic unit i.e bohr or angstrom\n",
    "## so convert them in  as stated''\n"
   ]
  },
  {
   "cell_type": "markdown",
   "id": "b39942be",
   "metadata": {},
   "source": [
    "# Example : MoAlB"
   ]
  },
  {
   "cell_type": "markdown",
   "id": "e29cfba3",
   "metadata": {},
   "source": [
    "## From paper   https://doi.org/10.1103/PhysRevApplied.20.044064\n",
    "\n",
    "## V = 35.124 $\\angstrom^3$\n",
    "## Vm =$ \\frac{V\\times atom^3}{3}$ \n",
    "## where,\n",
    "### $btoa$ = 0.529177249  conversion from bohr to angstrom\n",
    "### $atom$ = 1$\\times$10$^{-10}$          conversion from angstrom to meter\n",
    "### $3$ because there are three elements in MoAlB\n",
    "\n",
    "## $\\delta$ = (Vm)$^{1/3}$ ; average volume of premitive unit cell per atom \n",
    "## $\\gamma$ = 1.39  measured from elastic constant =$\\frac{3(1+\\nu)}{2(2-3\\nu)}$ with $\\nu$ = 0.23\n",
    "## $B(\\gamma)$ = 3.25$\\times$10$^{-8}$ [CGS]= 3.25$\\times$10$^{7}$[SI]\n",
    "## M =$\\frac{Atomic\\; mass\\;of\\; Mo+Al+B}{3}= 44.58 [AMU]=0.04458$[kg/mol]\n",
    "## n = 12\n",
    "## T$_D$ = 685 K\n",
    "## T = 300 K\n",
    "## K$_{ph}$ = 34.8 W/mol.K\n",
    "## expt = 6"
   ]
  },
  {
   "cell_type": "code",
   "execution_count": 4,
   "id": "10e44242",
   "metadata": {},
   "outputs": [
    {
     "data": {
      "text/plain": [
       "34.754482921240026"
      ]
     },
     "execution_count": 4,
     "metadata": {},
     "output_type": "execute_result"
    }
   ],
   "source": [
    "atom = 1e-10\n",
    "va = 35.124\n",
    "vm = va*atom**3\n",
    "V = vm/3\n",
    "delta = (V)**(1/3) #(Average Volume of premitive unit cell per atom )\n",
    "r = 1.39\n",
    "B = (5.720*1e7*0.849)/(2*(1-0.514*(1/r)+0.228*(1/(r**2))))\n",
    "M = 0.04458\n",
    "n = 12\n",
    "Td = 685\n",
    "T = 300\n",
    "kl3 = B*M*delta*Td**3/(T*r**2*n**(2/3))\n",
    "kl3"
   ]
  },
  {
   "cell_type": "markdown",
   "id": "8b77db1c",
   "metadata": {},
   "source": [
    "# Example : MgSiN$_2$"
   ]
  },
  {
   "cell_type": "markdown",
   "id": "b76f8297",
   "metadata": {},
   "source": [
    "# From thesis https://pure.tue.nl/ws/portalfiles/portal/1306902/"
   ]
  },
  {
   "cell_type": "markdown",
   "id": "fd7db819",
   "metadata": {},
   "source": [
    "\n",
    "## V = 42.50 $\\angstrom^3$\n",
    "## Vm =$ \\frac{V\\times atom^3}{4}$ \n",
    "## where,\n",
    "### $btoa$ = 0.529177249  conversion from bohr to angstrom\n",
    "### $atom$ = 1$\\times$10$^{-10}$          conversion from angstrom to meter\n",
    "### $4$ because there are four atoms (Mg+Si+2Ni) in MgSiN$_2$\n",
    "\n",
    "## $\\delta$ = (Vm)$^{1/3}$=1.0641$\\times$10$^{-29}$ ; average volume of premitive unit cell per atom \n",
    "## $\\gamma$ = 0.98  measured from heat capacity \n",
    "## $B(\\gamma)$ = 3.40$\\times$10$^{7}$[SI]\n",
    "## M =$\\frac{Mg+Si+2 \\times N}{4}= 20.01 [AMU]=0.0201$[kg/mol]\n",
    "## n = 16\n",
    "## T$_D$ = 741 K\n",
    "## T = 741 K\n",
    "## K$_{ph}$ = 13.55 W/m.K \n",
    "## Expt = 13.4"
   ]
  },
  {
   "cell_type": "code",
   "execution_count": 17,
   "id": "ef6c9ef6",
   "metadata": {},
   "outputs": [
    {
     "name": "stdout",
     "output_type": "stream",
     "text": [
      "13.558117105378148\n",
      "Expt=13.4\n"
     ]
    }
   ],
   "source": [
    "# At temperature equals to Debye temperature\n",
    "M = 0.0201 #(Mean atomic mass in kg /mol)\n",
    "V = (1.0641e-29)**(1/3) #(Average Volume of premitive unit cell per atom )\n",
    "n = 16  #(Number of atoms in unit cell)\n",
    "T = 741 #(Debye temperature)\n",
    "r = 0.98 #(Gruneisen Parameter)\n",
    "K = 741 #(Temperature)\n",
    "B = (5.720*1e7*0.849)/(2*(1-0.514*(1/r)+0.228*(1/(r**2))))\n",
    "kmax = B*M*V*T*T*T/(K*r*r*n**(2/3))\n",
    "print(kmax)\n",
    "print('Expt=13.4')"
   ]
  },
  {
   "cell_type": "code",
   "execution_count": 16,
   "id": "e6305c69",
   "metadata": {},
   "outputs": [
    {
     "name": "stdout",
     "output_type": "stream",
     "text": [
      "33.488549250284024\n",
      "Expt=23\n"
     ]
    }
   ],
   "source": [
    "# At room temperature\n",
    "M = 0.0201 #(Mean atomic mass in kg /mol)\n",
    "V = (1.0641e-29)**(1/3) #(Average Volume of premitive unit cell per atom )\n",
    "n = 16  #(Number of atoms in unit cell)\n",
    "T = 741 #(Debye temperature)\n",
    "r = 0.98 #(Gruneisen Parameter)\n",
    "K = 300 #(Temperature)\n",
    "B = (5.720*1e7*0.849)/(2*(1-0.514*(1/r)+0.228*(1/(r**2))))\n",
    "kmax = B*M*V*T*T*T/(K*r*r*n**(2/3))\n",
    "print(kmax)\n",
    "print('Expt=23')"
   ]
  },
  {
   "cell_type": "markdown",
   "id": "be418c0f",
   "metadata": {},
   "source": [
    "# Example : A$_2$M$_3$S$_4$"
   ]
  },
  {
   "cell_type": "code",
   "execution_count": 34,
   "id": "1aeb6da4",
   "metadata": {},
   "outputs": [
    {
     "data": {
      "text/plain": [
       "5.0059791354256005"
      ]
     },
     "execution_count": 34,
     "metadata": {},
     "output_type": "execute_result"
    }
   ],
   "source": [
    "# From elastic constant where we have obtained gamma = 1.7421\n",
    "atom = 1e-10\n",
    "va= 224.57\n",
    "vm = va*atom**3\n",
    "V = vm/9\n",
    "delta = V**(1/3)\n",
    "r = 1.7421\n",
    "B = (5.720*1e7*0.849)/(2*(1-0.514*(1/r)+0.228*(1/(r**2))))\n",
    "M = 0.09827 # M = (2*Rb+3*Pt+4*S)/9\n",
    "n = 9\n",
    "Td = 280.47\n",
    "T = 300\n",
    "kl3 = B*M*delta*Td**3/(T*r**2*n**(2/3))\n",
    "kl3"
   ]
  },
  {
   "cell_type": "code",
   "execution_count": 64,
   "id": "976e16ce",
   "metadata": {},
   "outputs": [
    {
     "data": {
      "text/plain": [
       "2.925193508190387"
      ]
     },
     "execution_count": 64,
     "metadata": {},
     "output_type": "execute_result"
    }
   ],
   "source": [
    "# From heat capacity where we have obtained gamma = 2.29\n",
    "atom = 1e-10\n",
    "va= 224.57\n",
    "vm = va*atom**3\n",
    "V = vm/9\n",
    "delta = V**(1/3)\n",
    "r = 2.29\n",
    "B = (5.720*1e7*0.849)/(2*(1-0.514*(1/r)+0.228*(1/(r**2))))\n",
    "M = 0.09827\n",
    "n = 9\n",
    "Td = 285.98\n",
    "T = 300\n",
    "kl3 = B*M*delta*Td**3/(T*r**2*n**(2/3))\n",
    "kl3"
   ]
  },
  {
   "cell_type": "markdown",
   "id": "1c003942",
   "metadata": {},
   "source": [
    "# Modified Slack equation"
   ]
  },
  {
   "cell_type": "markdown",
   "id": "062310ac",
   "metadata": {},
   "source": [
    "# $K_{ph} =\\frac{(6\\pi)^{2/3}}{4\\pi^2}\\frac{M_{av}v_m^3}{TV^{2/3}\\gamma^2n_D}$"
   ]
  },
  {
   "cell_type": "markdown",
   "id": "6f32ecc6",
   "metadata": {},
   "source": [
    "### will be uploaded soon................"
   ]
  },
  {
   "cell_type": "code",
   "execution_count": null,
   "id": "cd689120",
   "metadata": {},
   "outputs": [],
   "source": []
  }
 ],
 "metadata": {
  "kernelspec": {
   "display_name": "Python 3 (ipykernel)",
   "language": "python",
   "name": "python3"
  },
  "language_info": {
   "codemirror_mode": {
    "name": "ipython",
    "version": 3
   },
   "file_extension": ".py",
   "mimetype": "text/x-python",
   "name": "python",
   "nbconvert_exporter": "python",
   "pygments_lexer": "ipython3",
   "version": "3.11.4"
  }
 },
 "nbformat": 4,
 "nbformat_minor": 5
}
